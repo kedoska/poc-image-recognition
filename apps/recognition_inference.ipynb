{
 "cells": [
  {
   "cell_type": "markdown",
   "id": "987cdebc",
   "metadata": {},
   "source": [
    "# Image Recognition - Inference\n",
    "In this notebook, we load a trained model and run an inference on a test image."
   ]
  },
  {
   "cell_type": "code",
   "execution_count": 3,
   "id": "3c63fce4",
   "metadata": {},
   "outputs": [],
   "source": [
    "import torch\n",
    "import torchvision.transforms as transforms\n",
    "from PIL import Image\n",
    "import matplotlib.pyplot as plt\n"
   ]
  },
  {
   "cell_type": "code",
   "execution_count": 5,
   "id": "4ea4f2ff",
   "metadata": {},
   "outputs": [
    {
     "name": "stdout",
     "output_type": "stream",
     "text": [
      "Inference on cuda:0\n"
     ]
    },
    {
     "data": {
      "text/plain": [
       "SimpleCNN(\n",
       "  (conv1): Conv2d(3, 16, kernel_size=(3, 3), stride=(1, 1), padding=(1, 1))\n",
       "  (conv2): Conv2d(16, 32, kernel_size=(3, 3), stride=(1, 1), padding=(1, 1))\n",
       "  (conv3): Conv2d(32, 64, kernel_size=(3, 3), stride=(1, 1), padding=(1, 1))\n",
       "  (fc1): Linear(in_features=87616, out_features=512, bias=True)\n",
       "  (fc2): Linear(in_features=512, out_features=3, bias=True)\n",
       "  (pool): MaxPool2d(kernel_size=2, stride=2, padding=0, dilation=1, ceil_mode=False)\n",
       ")"
      ]
     },
     "execution_count": 5,
     "metadata": {},
     "output_type": "execute_result"
    }
   ],
   "source": [
    "import sys\n",
    "sys.path.append('../core/')  # Add the core directory to the Python path\n",
    "from simple_cnn import SimpleCNN\n",
    "\n",
    "device = torch.device(\"cuda:0\" if torch.cuda.is_available() else \"cpu\")\n",
    "print(f\"Inference on {device}\")\n",
    "\n",
    "num_classes = 3\n",
    "\n",
    "# Initialize the model\n",
    "model = SimpleCNN(num_classes=num_classes)\n",
    "model.to(device)  # Move model to device\n",
    "\n",
    "# Load the model\n",
    "model.load_state_dict(torch.load('../build/model.pth', map_location=device))\n",
    "model.eval()\n"
   ]
  },
  {
   "cell_type": "markdown",
   "id": "a247c5c4",
   "metadata": {},
   "source": [
    "## Processing the test image"
   ]
  },
  {
   "cell_type": "code",
   "execution_count": 6,
   "id": "3b291856",
   "metadata": {},
   "outputs": [],
   "source": [
    "# Define the same transform you used during training\n",
    "transform = transforms.Compose([\n",
    "    transforms.Resize((299, 299)),\n",
    "    transforms.ToTensor()\n",
    "])\n",
    "\n",
    "# Load an image from test path\n",
    "img_path = \"../data/test/model a/test_image.png\"  # Replace with your test image path\n",
    "img = Image.open(img_path).convert('RGB')\n",
    "\n",
    "# Apply the transformations to the image\n",
    "input_img = transform(img).unsqueeze(0)  # Add a batch dimension\n"
   ]
  },
  {
   "cell_type": "markdown",
   "id": "70eb396e",
   "metadata": {},
   "source": [
    "## Inference"
   ]
  },
  {
   "cell_type": "code",
   "execution_count": 8,
   "id": "082021d7",
   "metadata": {},
   "outputs": [],
   "source": [
    "# Move input data to device\n",
    "input_img = input_img.to(device)\n",
    "\n",
    "# Perform inference\n",
    "with torch.no_grad():\n",
    "    output = model(input_img)\n",
    "    _, predicted = output.max(1)  # Get the index of the max log-probability\n"
   ]
  },
  {
   "cell_type": "markdown",
   "id": "b8abcda5",
   "metadata": {},
   "source": [
    "## Show Result"
   ]
  },
  {
   "cell_type": "code",
   "execution_count": 9,
   "id": "9d7d6a75",
   "metadata": {},
   "outputs": [
    {
     "data": {
      "image/png": "[encoded data removed]",
      "text/plain": [
       "<Figure size 640x480 with 1 Axes>"
      ]
     },
     "metadata": {},
     "output_type": "display_data"
    },
    {
     "name": "stdout",
     "output_type": "stream",
     "text": [
      "The model predicts that this image is: Model A\n"
     ]
    }
   ],
   "source": [
    "# Define a dictionary to map class indices to model names\n",
    "class_idx_to_name = {\n",
    "    0: 'Model A',\n",
    "    1: 'Model B',\n",
    "    2: 'Model C'\n",
    "}\n",
    "\n",
    "# Show the image\n",
    "plt.imshow(img)\n",
    "plt.title(\"Test Image\")\n",
    "plt.show()\n",
    "\n",
    "# Show the prediction\n",
    "print(f\"The model predicts that this image is: {class_idx_to_name[predicted.item()]}\")\n"
   ]
  }
 ],
 "metadata": {
  "kernelspec": {
   "display_name": "Python 3 (ipykernel)",
   "language": "python",
   "name": "python3"
  },
  "language_info": {
   "codemirror_mode": {
    "name": "ipython",
    "version": 3
   },
   "file_extension": ".py",
   "mimetype": "text/x-python",
   "name": "python",
   "nbconvert_exporter": "python",
   "pygments_lexer": "ipython3",
   "version": "3.9.18"
  }
 },
 "nbformat": 4,
 "nbformat_minor": 5
}
